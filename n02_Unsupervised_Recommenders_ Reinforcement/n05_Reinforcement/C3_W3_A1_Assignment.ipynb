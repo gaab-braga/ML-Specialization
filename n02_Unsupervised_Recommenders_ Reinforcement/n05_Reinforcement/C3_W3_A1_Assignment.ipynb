{
 "cells": [
  {
   "cell_type": "markdown",
   "metadata": {},
   "source": [
    "# Deep Q-Learning - Lunar Lander\n",
    "\n",
    "In this assignment, you will train an agent to land a lunar lander safely on a landing pad on the surface of the moon.\n",
    "\n",
    "\n",
    "# Outline\n",
    "- [ 1 - Import Packages <img align=\"Right\" src=\"./images/lunar_lander.gif\" width = 60% >](#1)\n",
    "- [ 2 - Hyperparameters](#2)\n",
    "- [ 3 - The Lunar Lander Environment](#3)\n",
    "  - [ 3.1 Action Space](#3.1)\n",
    "  - [ 3.2 Observation Space](#3.2)\n",
    "  - [ 3.3 Rewards](#3.3)\n",
    "  - [ 3.4 Episode Termination](#3.4)\n",
    "- [ 4 - Load the Environment](#4)\n",
    "- [ 5 - Interacting with the Gym Environment](#5)\n",
    "    - [ 5.1 Exploring the Environment's Dynamics](#5.1)\n",
    "- [ 6 - Deep Q-Learning](#6)\n",
    "  - [ 6.1 Target Network](#6.1)\n",
    "    - [ Exercise 1](#ex01)\n",
    "  - [ 6.2 Experience Replay](#6.2)\n",
    "- [ 7 - Deep Q-Learning Algorithm with Experience Replay](#7)\n",
    "  - [ Exercise 2](#ex02)\n",
    "- [ 8 - Update the Network Weights](#8)\n",
    "- [ 9 - Train the Agent](#9)\n",
    "- [ 10 - See the Trained Agent In Action](#10)\n",
    "- [ 11 - Congratulations!](#11)\n",
    "- [ 12 - References](#12)\n"
   ]
  },
  {
   "cell_type": "markdown",
   "metadata": {},
   "source": [
    "_**NOTE:** To prevent errors from the autograder, you are not allowed to edit or delete non-graded cells in this lab. Please also refrain from adding any new cells. \n",
    "**Once you have passed this assignment** and want to experiment with any of the non-graded code, you may follow the instructions at the bottom of this notebook._"
   ]
  },
  {
   "cell_type": "markdown",
   "metadata": {},
   "source": [
    "<a name=\"1\"></a>\n",
    "## 1 - Import Packages\n",
    "\n",
    "We'll make use of the following packages:\n",
    "- `numpy` is a package for scientific computing in python.\n",
    "- `deque` will be our data structure for our memory buffer.\n",
    "- `namedtuple` will be used to store the experience tuples.\n",
    "- The `gym` toolkit is a collection of environments that can be used to test reinforcement learning algorithms. We should note that in this notebook we are using `gym` version `0.24.0`.\n",
    "- `PIL.Image` and `pyvirtualdisplay` are needed to render the Lunar Lander environment.\n",
    "- We will use several modules from the `tensorflow.keras` framework for building deep learning models.\n",
    "- `utils` is a module that contains helper functions for this assignment. You do not need to modify the code in this file.\n",
    "\n",
    "Run the cell below to import all the necessary packages."
   ]
  },
  {
   "cell_type": "code",
   "execution_count": 1,
   "metadata": {
    "deletable": false,
    "editable": false,
    "id": "KYbOPKRtfQOr"
   },
   "outputs": [],
   "source": [
    "import time\n",
    "from collections import deque, namedtuple\n",
    "\n",
    "import gym\n",
    "import numpy as np\n",
    "import PIL.Image\n",
    "import tensorflow as tf\n",
    "import utils\n",
    "\n",
    "from pyvirtualdisplay import Display\n",
    "from tensorflow.keras import Sequential\n",
    "from tensorflow.keras.layers import Dense, Input\n",
    "from tensorflow.keras.losses import MSE\n",
    "from tensorflow.keras.optimizers import Adam"
   ]
  },
  {
   "cell_type": "code",
   "execution_count": 2,
   "metadata": {
    "deletable": false,
    "editable": false
   },
   "outputs": [],
   "source": [
    "# Set up a virtual display to render the Lunar Lander environment.\n",
    "Display(visible=0, size=(840, 480)).start();\n",
    "\n",
    "# Set the random seed for TensorFlow\n",
    "tf.random.set_seed(utils.SEED)"
   ]
  },
  {
   "cell_type": "markdown",
   "metadata": {},
   "source": [
    "<a name=\"2\"></a>\n",
    "## 2 - Hyperparameters\n",
    "\n",
    "Run the cell below to set the hyperparameters."
   ]
  },
  {
   "cell_type": "code",
   "execution_count": 3,
   "metadata": {
    "deletable": false,
    "editable": false
   },
   "outputs": [],
   "source": [
    "MEMORY_SIZE = 100_000     # size of memory buffer\n",
    "GAMMA = 0.995             # discount factor\n",
    "ALPHA = 1e-3              # learning rate  \n",
    "NUM_STEPS_FOR_UPDATE = 4  # perform a learning update every C time steps"
   ]
  },
  {
   "cell_type": "markdown",
   "metadata": {},
   "source": [
    "<a name=\"3\"></a>\n",
    "## 3 - The Lunar Lander Environment\n",
    "\n",
    "In this notebook we will be using [OpenAI's Gym Library](https://www.gymlibrary.dev/). The Gym library provides a wide variety of environments for reinforcement learning. To put it simply, an environment represents a problem or task to be solved. In this notebook, we will try to solve the Lunar Lander environment using reinforcement learning.\n",
    "\n",
    "The goal of the Lunar Lander environment is to land the lunar lander safely on the landing pad on the surface of the moon. The landing pad is designated by two flag poles and its center is at coordinates `(0,0)` but the lander is also allowed to land outside of the landing pad. The lander starts at the top center of the environment with a random initial force applied to its center of mass and has infinite fuel. The environment is considered solved if you get `200` points. \n",
    "\n",
    "<br>\n",
    "<br>\n",
    "<figure>\n",
    "  <img src = \"images/lunar_lander.gif\" width = 40%>\n",
    "      <figcaption style = \"text-align: center; font-style: italic\">Fig 1. Lunar Lander Environment.</figcaption>\n",
    "</figure>\n",
    "\n",
    "\n",
    "\n",
    "<a name=\"3.1\"></a>\n",
    "### 3.1 Action Space\n",
    "\n",
    "The agent has four discrete actions available:\n",
    "\n",
    "* Do nothing.\n",
    "* Fire right engine.\n",
    "* Fire main engine.\n",
    "* Fire left engine.\n",
    "\n",
    "Each action has a corresponding numerical value:\n",
    "\n",
    "```python\n",
    "Do nothing = 0\n",
    "Fire right engine = 1\n",
    "Fire main engine = 2\n",
    "Fire left engine = 3\n",
    "```\n",
    "\n",
    "<a name=\"3.2\"></a>\n",
    "### 3.2 Observation Space\n",
    "\n",
    "The agent's observation space consists of a state vector with 8 variables:\n",
    "\n",
    "* Its $(x,y)$ coordinates. The landing pad is always at coordinates $(0,0)$.\n",
    "* Its linear velocities $(\\dot x,\\dot y)$.\n",
    "* Its angle $\\theta$.\n",
    "* Its angular velocity $\\dot \\theta$.\n",
    "* Two booleans, $l$ and $r$, that represent whether each leg is in contact with the ground or not.\n",
    "\n",
    "<a name=\"3.3\"></a>\n",
    "### 3.3 Rewards\n",
    "\n",
    "After every step, a reward is granted. The total reward of an episode is the sum of the rewards for all the steps within that episode.\n",
    "\n",
    "For each step, the reward:\n",
    "- is increased/decreased the closer/further the lander is to the landing pad.\n",
    "- is increased/decreased the slower/faster the lander is moving.\n",
    "- is decreased the more the lander is tilted (angle not horizontal).\n",
    "- is increased by 10 points for each leg that is in contact with the ground.\n",
    "- is decreased by 0.03 points each frame a side engine is firing.\n",
    "- is decreased by 0.3 points each frame the main engine is firing.\n",
    "\n",
    "The episode receives an additional reward of -100 or +100 points for crashing or landing safely respectively.\n",
    "\n",
    "<a name=\"3.4\"></a>\n",
    "### 3.4 Episode Termination\n",
    "\n",
    "An episode ends (i.e the environment enters a terminal state) if:\n",
    "\n",
    "* The lunar lander crashes (i.e if the body of the lunar lander comes in contact with the surface of the moon).\n",
    "\n",
    "* The absolute value of the lander's $x$-coordinate is greater than 1 (i.e. it goes beyond the left or right border)\n",
    "\n",
    "You can check out the [Open AI Gym documentation](https://www.gymlibrary.dev/environments/box2d/lunar_lander/) for a full description of the environment. "
   ]
  },
  {
   "cell_type": "markdown",
   "metadata": {},
   "source": [
    "<a name=\"4\"></a>\n",
    "## 4 - Load the Environment\n",
    "\n",
    "We start by loading the `LunarLander-v2` environment from the `gym` library by using the `.make()` method. `LunarLander-v2` is the latest version of the Lunar Lander environment and you can read about its version history in the [Open AI Gym documentation](https://www.gymlibrary.dev/environments/box2d/lunar_lander/#version-history)."
   ]
  },
  {
   "cell_type": "code",
   "execution_count": 4,
   "metadata": {
    "deletable": false,
    "editable": false,
    "id": "ILVMYKewfR0n"
   },
   "outputs": [],
   "source": [
    "env = gym.make('LunarLander-v2')"
   ]
  },
  {
   "cell_type": "markdown",
   "metadata": {},
   "source": [
    "Once we load the environment we use the `.reset()` method to reset the environment to the initial state. The lander starts at the top center of the environment and we can render the first frame of the environment by using the `.render()` method."
   ]
  },
  {
   "cell_type": "code",
   "execution_count": 5,
   "metadata": {
    "deletable": false,
    "editable": false
   },
   "outputs": [
    {
     "data": {
      "image/png": "[encoded data removed]",
      "text/plain": [
       "<PIL.Image.Image image mode=RGB size=600x400 at 0x7470B752B4D0>"
      ]
     },
     "execution_count": 5,
     "metadata": {},
     "output_type": "execute_result"
    }
   ],
   "source": [
    "env.reset()\n",
    "PIL.Image.fromarray(env.render(mode='rgb_array'))"
   ]
  },
  {
   "cell_type": "markdown",
   "metadata": {},
   "source": [
    "In order to build our neural network later on we need to know the size of the state vector and the number of valid actions. We can get this information from our environment by using the `.observation_space.shape` and `action_space.n` methods, respectively."
   ]
  },
  {
   "cell_type": "code",
   "execution_count": 6,
   "metadata": {
    "deletable": false,
    "editable": false,
    "id": "x3fdqdG4CUu2"
   },
   "outputs": [
    {
     "name": "stdout",
     "output_type": "stream",
     "text": [
      "State Shape: (8,)\n",
      "Number of actions: 4\n"
     ]
    }
   ],
   "source": [
    "state_size = env.observation_space.shape\n",
    "num_actions = env.action_space.n\n",
    "\n",
    "print('State Shape:', state_size)\n",
    "print('Number of actions:', num_actions)"
   ]
  },
  {
   "cell_type": "markdown",
   "metadata": {},
   "source": [
    "<a name=\"5\"></a>\n",
    "## 5 - Interacting with the Gym Environment\n",
    "\n",
    "The Gym library implements the standard “agent-environment loop” formalism:\n",
    "\n",
    "<br>\n",
    "<center>\n",
    "<video src = \"./videos/rl_formalism.m4v\" width=\"840\" height=\"480\" controls autoplay loop poster=\"./images/rl_formalism.png\"> </video>\n",
    "<figcaption style = \"text-align:center; font-style:italic\">Fig 2. Agent-environment Loop Formalism.</figcaption>\n",
    "</center>\n",
    "<br>\n",
    "\n",
    "In the standard “agent-environment loop” formalism, an agent interacts with the environment in discrete time steps $t=0,1,2,...$. At each time step $t$, the agent uses a policy $\\pi$ to select an action $A_t$ based on its observation of the environment's state $S_t$. The agent receives a numerical reward $R_t$ and on the next time step, moves to a new state $S_{t+1}$.\n",
    "\n",
    "<a name=\"5.1\"></a>\n",
    "### 5.1 Exploring the Environment's Dynamics\n",
    "\n",
    "In Open AI's Gym environments, we use the `.step()` method to run a single time step of the environment's dynamics. In the version of `gym` that we are using the `.step()` method accepts an action and returns four values:\n",
    "\n",
    "* `observation` (**object**): an environment-specific object representing your observation of the environment. In the Lunar Lander environment this corresponds to a numpy array containing the positions and velocities of the lander as described in section [3.2 Observation Space](#3.2).\n",
    "\n",
    "\n",
    "* `reward` (**float**): amount of reward returned as a result of taking the given action. In the Lunar Lander environment this corresponds to a float of type `numpy.float64` as described in section [3.3 Rewards](#3.3).\n",
    "\n",
    "\n",
    "* `done` (**boolean**): When done is `True`, it indicates the episode has terminated and it’s time to reset the environment. \n",
    "\n",
    "\n",
    "* `info` (**dictionary**): diagnostic information useful for debugging. We won't be using this variable in this notebook but it is shown here for completeness.\n",
    "\n",
    "To begin an episode, we need to reset the environment to an initial state. We do this by using the `.reset()` method. "
   ]
  },
  {
   "cell_type": "code",
   "execution_count": 7,
   "metadata": {
    "deletable": false,
    "editable": false
   },
   "outputs": [],
   "source": [
    "# Reset the environment and get the initial state.\n",
    "current_state = env.reset()"
   ]
  },
  {
   "cell_type": "markdown",
   "metadata": {},
   "source": [
    "Once the environment is reset, the agent can start taking actions in the environment by using the `.step()` method. Note that the agent can only take one action per time step. \n",
    "\n",
    "In the cell below you can select different actions and see how the returned values change depending on the action taken. Remember that in this environment the agent has four discrete actions available and we specify them in code by using their corresponding numerical value:\n",
    "\n",
    "```python\n",
    "Do nothing = 0\n",
    "Fire right engine = 1\n",
    "Fire main engine = 2\n",
    "Fire left engine = 3\n",
    "```"
   ]
  },
  {
   "cell_type": "code",
   "execution_count": 8,
   "metadata": {
    "deletable": false
   },
   "outputs": [
    {
     "data": {
      "text/html": [
       "<style  type=\"text/css\" >\n",
       "    #T_58a14d6c_e719_11ef_a15e_0242ac12004b th {\n",
       "          border: 1px solid grey;\n",
       "          text-align: center;\n",
       "    }    #T_58a14d6c_e719_11ef_a15e_0242ac12004b tbody td {\n",
       "          border: 1px solid grey;\n",
       "          text-align: center;\n",
       "    }    #T_58a14d6c_e719_11ef_a15e_0242ac12004brow0_col0 {\n",
       "            background-color :  grey;\n",
       "        }    #T_58a14d6c_e719_11ef_a15e_0242ac12004brow1_col1 {\n",
       "            background-color :  grey;\n",
       "        }    #T_58a14d6c_e719_11ef_a15e_0242ac12004brow1_col2 {\n",
       "            background-color :  grey;\n",
       "        }    #T_58a14d6c_e719_11ef_a15e_0242ac12004brow1_col3 {\n",
       "            background-color :  grey;\n",
       "        }    #T_58a14d6c_e719_11ef_a15e_0242ac12004brow1_col4 {\n",
       "            background-color :  grey;\n",
       "        }    #T_58a14d6c_e719_11ef_a15e_0242ac12004brow1_col5 {\n",
       "            background-color :  grey;\n",
       "        }    #T_58a14d6c_e719_11ef_a15e_0242ac12004brow1_col6 {\n",
       "            background-color :  grey;\n",
       "        }    #T_58a14d6c_e719_11ef_a15e_0242ac12004brow1_col7 {\n",
       "            background-color :  grey;\n",
       "        }    #T_58a14d6c_e719_11ef_a15e_0242ac12004brow1_col8 {\n",
       "            background-color :  grey;\n",
       "        }    #T_58a14d6c_e719_11ef_a15e_0242ac12004brow1_col9 {\n",
       "            background-color :  grey;\n",
       "        }    #T_58a14d6c_e719_11ef_a15e_0242ac12004brow1_col10 {\n",
       "            background-color :  grey;\n",
       "        }    #T_58a14d6c_e719_11ef_a15e_0242ac12004brow1_col11 {\n",
       "            background-color :  grey;\n",
       "        }    #T_58a14d6c_e719_11ef_a15e_0242ac12004brow2_col0 {\n",
       "            background-color :  grey;\n",
       "        }    #T_58a14d6c_e719_11ef_a15e_0242ac12004brow3_col1 {\n",
       "            background-color :  grey;\n",
       "        }    #T_58a14d6c_e719_11ef_a15e_0242ac12004brow3_col2 {\n",
       "            background-color :  grey;\n",
       "        }    #T_58a14d6c_e719_11ef_a15e_0242ac12004brow3_col3 {\n",
       "            background-color :  grey;\n",
       "        }    #T_58a14d6c_e719_11ef_a15e_0242ac12004brow3_col4 {\n",
       "            background-color :  grey;\n",
       "        }    #T_58a14d6c_e719_11ef_a15e_0242ac12004brow3_col5 {\n",
       "            background-color :  grey;\n",
       "        }    #T_58a14d6c_e719_11ef_a15e_0242ac12004brow3_col6 {\n",
       "            background-color :  grey;\n",
       "        }    #T_58a14d6c_e719_11ef_a15e_0242ac12004brow3_col7 {\n",
       "            background-color :  grey;\n",
       "        }    #T_58a14d6c_e719_11ef_a15e_0242ac12004brow3_col8 {\n",
       "            background-color :  grey;\n",
       "        }    #T_58a14d6c_e719_11ef_a15e_0242ac12004brow3_col9 {\n",
       "            background-color :  grey;\n",
       "        }    #T_58a14d6c_e719_11ef_a15e_0242ac12004brow3_col10 {\n",
       "            background-color :  grey;\n",
       "        }    #T_58a14d6c_e719_11ef_a15e_0242ac12004brow3_col11 {\n",
       "            background-color :  grey;\n",
       "        }    #T_58a14d6c_e719_11ef_a15e_0242ac12004brow4_col1 {\n",
       "            background-color :  grey;\n",
       "        }    #T_58a14d6c_e719_11ef_a15e_0242ac12004brow4_col2 {\n",
       "            background-color :  grey;\n",
       "        }    #T_58a14d6c_e719_11ef_a15e_0242ac12004brow4_col3 {\n",
       "            background-color :  grey;\n",
       "        }    #T_58a14d6c_e719_11ef_a15e_0242ac12004brow4_col4 {\n",
       "            background-color :  grey;\n",
       "        }    #T_58a14d6c_e719_11ef_a15e_0242ac12004brow4_col5 {\n",
       "            background-color :  grey;\n",
       "        }    #T_58a14d6c_e719_11ef_a15e_0242ac12004brow4_col6 {\n",
       "            background-color :  grey;\n",
       "        }    #T_58a14d6c_e719_11ef_a15e_0242ac12004brow4_col7 {\n",
       "            background-color :  grey;\n",
       "        }    #T_58a14d6c_e719_11ef_a15e_0242ac12004brow4_col8 {\n",
       "            background-color :  grey;\n",
       "        }    #T_58a14d6c_e719_11ef_a15e_0242ac12004brow4_col9 {\n",
       "            background-color :  grey;\n",
       "        }    #T_58a14d6c_e719_11ef_a15e_0242ac12004brow4_col10 {\n",
       "            background-color :  grey;\n",
       "        }    #T_58a14d6c_e719_11ef_a15e_0242ac12004brow4_col11 {\n",
       "            background-color :  grey;\n",
       "        }</style><table id=\"T_58a14d6c_e719_11ef_a15e_0242ac12004b\" ><thead>    <tr>        <th class=\"blank level0\" ></th>        <th class=\"col_heading level0 col0\" ></th>        <th class=\"col_heading level0 col1\" colspan=8>State Vector</th>        <th class=\"col_heading level0 col9\" colspan=3>Derived from the State Vector (the closer to zero, the better)</th>    </tr>    <tr>        <th class=\"blank level1\" ></th>        <th class=\"col_heading level1 col0\" ></th>        <th class=\"col_heading level1 col1\" colspan=2>Coordinate</th>        <th class=\"col_heading level1 col3\" colspan=2>Velocity</th>        <th class=\"col_heading level1 col5\" colspan=2>Tilting</th>        <th class=\"col_heading level1 col7\" colspan=2>Ground contact</th>        <th class=\"col_heading level1 col9\" >Distance from landing pad</th>        <th class=\"col_heading level1 col10\" >Velocity</th>        <th class=\"col_heading level1 col11\" >Tilting Angle (absolute value)</th>    </tr>    <tr>        <th class=\"blank level2\" ></th>        <th class=\"col_heading level2 col0\" ></th>        <th class=\"col_heading level2 col1\" >X (Horizontal)</th>        <th class=\"col_heading level2 col2\" >Y (Vertical)</th>        <th class=\"col_heading level2 col3\" >X (Horizontal)</th>        <th class=\"col_heading level2 col4\" >Y (Vertical)</th>        <th class=\"col_heading level2 col5\" >Angle</th>        <th class=\"col_heading level2 col6\" >Angular Velocity</th>        <th class=\"col_heading level2 col7\" >Left Leg?</th>        <th class=\"col_heading level2 col8\" >Right Leg?</th>        <th class=\"col_heading level2 col9\" ></th>        <th class=\"col_heading level2 col10\" ></th>        <th class=\"col_heading level2 col11\" ></th>    </tr></thead><tbody>\n",
       "                <tr>\n",
       "                        <th id=\"T_58a14d6c_e719_11ef_a15e_0242ac12004blevel0_row0\" class=\"row_heading level0 row0\" >Current State</th>\n",
       "                        <td id=\"T_58a14d6c_e719_11ef_a15e_0242ac12004brow0_col0\" class=\"data row0 col0\" ></td>\n",
       "                        <td id=\"T_58a14d6c_e719_11ef_a15e_0242ac12004brow0_col1\" class=\"data row0 col1\" >0.001919</td>\n",
       "                        <td id=\"T_58a14d6c_e719_11ef_a15e_0242ac12004brow0_col2\" class=\"data row0 col2\" >1.422301</td>\n",
       "                        <td id=\"T_58a14d6c_e719_11ef_a15e_0242ac12004brow0_col3\" class=\"data row0 col3\" >0.194400</td>\n",
       "                        <td id=\"T_58a14d6c_e719_11ef_a15e_0242ac12004brow0_col4\" class=\"data row0 col4\" >0.505814</td>\n",
       "                        <td id=\"T_58a14d6c_e719_11ef_a15e_0242ac12004brow0_col5\" class=\"data row0 col5\" >-0.002217</td>\n",
       "                        <td id=\"T_58a14d6c_e719_11ef_a15e_0242ac12004brow0_col6\" class=\"data row0 col6\" >-0.044034</td>\n",
       "                        <td id=\"T_58a14d6c_e719_11ef_a15e_0242ac12004brow0_col7\" class=\"data row0 col7\" >False</td>\n",
       "                        <td id=\"T_58a14d6c_e719_11ef_a15e_0242ac12004brow0_col8\" class=\"data row0 col8\" >False</td>\n",
       "                        <td id=\"T_58a14d6c_e719_11ef_a15e_0242ac12004brow0_col9\" class=\"data row0 col9\" >1.422302</td>\n",
       "                        <td id=\"T_58a14d6c_e719_11ef_a15e_0242ac12004brow0_col10\" class=\"data row0 col10\" >0.541885</td>\n",
       "                        <td id=\"T_58a14d6c_e719_11ef_a15e_0242ac12004brow0_col11\" class=\"data row0 col11\" >0.002217</td>\n",
       "            </tr>\n",
       "            <tr>\n",
       "                        <th id=\"T_58a14d6c_e719_11ef_a15e_0242ac12004blevel0_row1\" class=\"row_heading level0 row1\" >Action</th>\n",
       "                        <td id=\"T_58a14d6c_e719_11ef_a15e_0242ac12004brow1_col0\" class=\"data row1 col0\" >Do nothing</td>\n",
       "                        <td id=\"T_58a14d6c_e719_11ef_a15e_0242ac12004brow1_col1\" class=\"data row1 col1\" ></td>\n",
       "                        <td id=\"T_58a14d6c_e719_11ef_a15e_0242ac12004brow1_col2\" class=\"data row1 col2\" ></td>\n",
       "                        <td id=\"T_58a14d6c_e719_11ef_a15e_0242ac12004brow1_col3\" class=\"data row1 col3\" ></td>\n",
       "                        <td id=\"T_58a14d6c_e719_11ef_a15e_0242ac12004brow1_col4\" class=\"data row1 col4\" ></td>\n",
       "                        <td id=\"T_58a14d6c_e719_11ef_a15e_0242ac12004brow1_col5\" class=\"data row1 col5\" ></td>\n",
       "                        <td id=\"T_58a14d6c_e719_11ef_a15e_0242ac12004brow1_col6\" class=\"data row1 col6\" ></td>\n",
       "                        <td id=\"T_58a14d6c_e719_11ef_a15e_0242ac12004brow1_col7\" class=\"data row1 col7\" ></td>\n",
       "                        <td id=\"T_58a14d6c_e719_11ef_a15e_0242ac12004brow1_col8\" class=\"data row1 col8\" ></td>\n",
       "                        <td id=\"T_58a14d6c_e719_11ef_a15e_0242ac12004brow1_col9\" class=\"data row1 col9\" ></td>\n",
       "                        <td id=\"T_58a14d6c_e719_11ef_a15e_0242ac12004brow1_col10\" class=\"data row1 col10\" ></td>\n",
       "                        <td id=\"T_58a14d6c_e719_11ef_a15e_0242ac12004brow1_col11\" class=\"data row1 col11\" ></td>\n",
       "            </tr>\n",
       "            <tr>\n",
       "                        <th id=\"T_58a14d6c_e719_11ef_a15e_0242ac12004blevel0_row2\" class=\"row_heading level0 row2\" >Next State</th>\n",
       "                        <td id=\"T_58a14d6c_e719_11ef_a15e_0242ac12004brow2_col0\" class=\"data row2 col0\" ></td>\n",
       "                        <td id=\"T_58a14d6c_e719_11ef_a15e_0242ac12004brow2_col1\" class=\"data row2 col1\" >0.003839</td>\n",
       "                        <td id=\"T_58a14d6c_e719_11ef_a15e_0242ac12004brow2_col2\" class=\"data row2 col2\" >1.433103</td>\n",
       "                        <td id=\"T_58a14d6c_e719_11ef_a15e_0242ac12004brow2_col3\" class=\"data row2 col3\" >0.194137</td>\n",
       "                        <td id=\"T_58a14d6c_e719_11ef_a15e_0242ac12004brow2_col4\" class=\"data row2 col4\" >0.480094</td>\n",
       "                        <td id=\"T_58a14d6c_e719_11ef_a15e_0242ac12004brow2_col5\" class=\"data row2 col5\" >-0.004393</td>\n",
       "                        <td id=\"T_58a14d6c_e719_11ef_a15e_0242ac12004brow2_col6\" class=\"data row2 col6\" >-0.043519</td>\n",
       "                        <td id=\"T_58a14d6c_e719_11ef_a15e_0242ac12004brow2_col7\" class=\"data row2 col7\" >False</td>\n",
       "                        <td id=\"T_58a14d6c_e719_11ef_a15e_0242ac12004brow2_col8\" class=\"data row2 col8\" >False</td>\n",
       "                        <td id=\"T_58a14d6c_e719_11ef_a15e_0242ac12004brow2_col9\" class=\"data row2 col9\" >1.433108</td>\n",
       "                        <td id=\"T_58a14d6c_e719_11ef_a15e_0242ac12004brow2_col10\" class=\"data row2 col10\" >0.517860</td>\n",
       "                        <td id=\"T_58a14d6c_e719_11ef_a15e_0242ac12004brow2_col11\" class=\"data row2 col11\" >0.004393</td>\n",
       "            </tr>\n",
       "            <tr>\n",
       "                        <th id=\"T_58a14d6c_e719_11ef_a15e_0242ac12004blevel0_row3\" class=\"row_heading level0 row3\" >Reward</th>\n",
       "                        <td id=\"T_58a14d6c_e719_11ef_a15e_0242ac12004brow3_col0\" class=\"data row3 col0\" >1.104326</td>\n",
       "                        <td id=\"T_58a14d6c_e719_11ef_a15e_0242ac12004brow3_col1\" class=\"data row3 col1\" ></td>\n",
       "                        <td id=\"T_58a14d6c_e719_11ef_a15e_0242ac12004brow3_col2\" class=\"data row3 col2\" ></td>\n",
       "                        <td id=\"T_58a14d6c_e719_11ef_a15e_0242ac12004brow3_col3\" class=\"data row3 col3\" ></td>\n",
       "                        <td id=\"T_58a14d6c_e719_11ef_a15e_0242ac12004brow3_col4\" class=\"data row3 col4\" ></td>\n",
       "                        <td id=\"T_58a14d6c_e719_11ef_a15e_0242ac12004brow3_col5\" class=\"data row3 col5\" ></td>\n",
       "                        <td id=\"T_58a14d6c_e719_11ef_a15e_0242ac12004brow3_col6\" class=\"data row3 col6\" ></td>\n",
       "                        <td id=\"T_58a14d6c_e719_11ef_a15e_0242ac12004brow3_col7\" class=\"data row3 col7\" ></td>\n",
       "                        <td id=\"T_58a14d6c_e719_11ef_a15e_0242ac12004brow3_col8\" class=\"data row3 col8\" ></td>\n",
       "                        <td id=\"T_58a14d6c_e719_11ef_a15e_0242ac12004brow3_col9\" class=\"data row3 col9\" ></td>\n",
       "                        <td id=\"T_58a14d6c_e719_11ef_a15e_0242ac12004brow3_col10\" class=\"data row3 col10\" ></td>\n",
       "                        <td id=\"T_58a14d6c_e719_11ef_a15e_0242ac12004brow3_col11\" class=\"data row3 col11\" ></td>\n",
       "            </tr>\n",
       "            <tr>\n",
       "                        <th id=\"T_58a14d6c_e719_11ef_a15e_0242ac12004blevel0_row4\" class=\"row_heading level0 row4\" >Episode Terminated</th>\n",
       "                        <td id=\"T_58a14d6c_e719_11ef_a15e_0242ac12004brow4_col0\" class=\"data row4 col0\" >False</td>\n",
       "                        <td id=\"T_58a14d6c_e719_11ef_a15e_0242ac12004brow4_col1\" class=\"data row4 col1\" ></td>\n",
       "                        <td id=\"T_58a14d6c_e719_11ef_a15e_0242ac12004brow4_col2\" class=\"data row4 col2\" ></td>\n",
       "                        <td id=\"T_58a14d6c_e719_11ef_a15e_0242ac12004brow4_col3\" class=\"data row4 col3\" ></td>\n",
       "                        <td id=\"T_58a14d6c_e719_11ef_a15e_0242ac12004brow4_col4\" class=\"data row4 col4\" ></td>\n",
       "                        <td id=\"T_58a14d6c_e719_11ef_a15e_0242ac12004brow4_col5\" class=\"data row4 col5\" ></td>\n",
       "                        <td id=\"T_58a14d6c_e719_11ef_a15e_0242ac12004brow4_col6\" class=\"data row4 col6\" ></td>\n",
       "                        <td id=\"T_58a14d6c_e719_11ef_a15e_0242ac12004brow4_col7\" class=\"data row4 col7\" ></td>\n",
       "                        <td id=\"T_58a14d6c_e719_11ef_a15e_0242ac12004brow4_col8\" class=\"data row4 col8\" ></td>\n",
       "                        <td id=\"T_58a14d6c_e719_11ef_a15e_0242ac12004brow4_col9\" class=\"data row4 col9\" ></td>\n",
       "                        <td id=\"T_58a14d6c_e719_11ef_a15e_0242ac12004brow4_col10\" class=\"data row4 col10\" ></td>\n",
       "                        <td id=\"T_58a14d6c_e719_11ef_a15e_0242ac12004brow4_col11\" class=\"data row4 col11\" ></td>\n",
       "            </tr>\n",
       "    </tbody></table>"
      ],
      "text/plain": [
       "<pandas.io.formats.style.Styler at 0x7470b7522510>"
      ]
     },
     "metadata": {},
     "output_type": "display_data"
    }
   ],
   "source": [
    "# Select an action\n",
    "action = 0\n",
    "\n",
    "# Run a single time step of the environment's dynamics with the given action.\n",
    "next_state, reward, done, _ = env.step(action)\n",
    "\n",
    "# Display table with values.\n",
    "utils.display_table(current_state, action, next_state, reward, done)\n",
    "\n",
    "# Replace the `current_state` with the state after the action is taken\n",
    "current_state = next_state"
   ]
  },
  {
   "cell_type": "markdown",
   "metadata": {},
   "source": [
    "In practice, when we train the agent we use a loop to allow the agent to take many consecutive actions during an episode."
   ]
  },
  {
   "cell_type": "markdown",
   "metadata": {},
   "source": [
    "<a name=\"6\"></a>\n",
    "## 6 - Deep Q-Learning\n",
    "\n",
    "In cases where both the state and action space are discrete we can estimate the action-value function iteratively by using the Bellman equation:\n",
    "\n",
    "$$\n",
    "Q_{i+1}(s,a) = R + \\gamma \\max_{a'}Q_i(s',a')\n",
    "$$\n",
    "\n",
    "This iterative method converges to the optimal action-value function $Q^*(s,a)$ as $i\\to\\infty$. This means that the agent just needs to gradually explore the state-action space and keep updating the estimate of $Q(s,a)$ until it converges to the optimal action-value function $Q^*(s,a)$. However, in cases where the state space is continuous it becomes practically impossible to explore the entire state-action space. Consequently, this also makes it practically impossible to gradually estimate $Q(s,a)$ until it converges to $Q^*(s,a)$.\n",
    "\n",
    "In the Deep $Q$-Learning, we solve this problem by using a neural network to estimate the action-value function $Q(s,a)\\approx Q^*(s,a)$. We call this neural network a $Q$-Network and it can be trained by adjusting its weights at each iteration to minimize the mean-squared error in the Bellman equation.\n",
    "\n",
    "Unfortunately, using neural networks in reinforcement learning to estimate action-value functions has proven to be highly unstable. Luckily, there's a couple of techniques that can be employed to avoid instabilities. These techniques consist of using a ***Target Network*** and ***Experience Replay***. We will explore these two techniques in the following sections."
   ]
  },
  {
   "cell_type": "markdown",
   "metadata": {},
   "source": [
    "<a name=\"6.1\"></a>\n",
    "### 6.1 Target Network\n",
    "\n",
    "We can train the $Q$-Network by adjusting it's weights at each iteration to minimize the mean-squared error in the Bellman equation, where the target values are given by:\n",
    "\n",
    "$$\n",
    "y = R + \\gamma \\max_{a'}Q(s',a';w)\n",
    "$$\n",
    "\n",
    "where $w$ are the weights of the $Q$-Network. This means that we are adjusting the weights $w$ at each iteration to minimize the following error:\n",
    "\n",
    "$$\n",
    "\\overbrace{\\underbrace{R + \\gamma \\max_{a'}Q(s',a'; w)}_{\\rm {y~target}} - Q(s,a;w)}^{\\rm {Error}}\n",
    "$$\n",
    "\n",
    "Notice that this forms a problem because the $y$ target is changing on every iteration. Having a constantly moving target can lead to oscillations and instabilities. To avoid this, we can create\n",
    "a separate neural network for generating the $y$ targets. We call this separate neural network the **target $\\hat Q$-Network** and it will have the same architecture as the original $Q$-Network. By using the target $\\hat Q$-Network, the above error becomes:\n",
    "\n",
    "$$\n",
    "\\overbrace{\\underbrace{R + \\gamma \\max_{a'}\\hat{Q}(s',a'; w^-)}_{\\rm {y~target}} - Q(s,a;w)}^{\\rm {Error}}\n",
    "$$\n",
    "\n",
    "where $w^-$ and $w$ are the weights of the target $\\hat Q$-Network and $Q$-Network, respectively.\n",
    "\n",
    "In practice, we will use the following algorithm: every $C$ time steps we will use the $\\hat Q$-Network to generate the $y$ targets and update the weights of the target $\\hat Q$-Network using the weights of the $Q$-Network. We will update the weights $w^-$ of the the target $\\hat Q$-Network using a **soft update**. This means that we will update the weights $w^-$ using the following rule:\n",
    " \n",
    "$$\n",
    "w^-\\leftarrow \\tau w + (1 - \\tau) w^-\n",
    "$$\n",
    "\n",
    "where $\\tau\\ll 1$. By using the soft update, we are ensuring that the target values, $y$, change slowly, which greatly improves the stability of our learning algorithm."
   ]
  },
  {
   "cell_type": "markdown",
   "metadata": {},
   "source": [
    "<a name=\"ex01\"></a>\n",
    "### Exercise 1\n",
    "\n",
    "In this exercise you will create the $Q$ and target $\\hat Q$ networks and set the optimizer. Remember that the Deep $Q$-Network (DQN) is a neural network that approximates the action-value function $Q(s,a)\\approx Q^*(s,a)$. It does this by learning how to map states to $Q$ values.\n",
    "\n",
    "To solve the Lunar Lander environment, we are going to employ a DQN with the following architecture:\n",
    "\n",
    "* An `Input` layer that takes `state_size` as input.\n",
    "\n",
    "* A `Dense` layer with `64` units and a `relu` activation function.\n",
    "\n",
    "* A `Dense` layer with `64` units and a `relu` activation function.\n",
    "\n",
    "* A `Dense` layer with `num_actions` units and a `linear` activation function. This will be the output layer of our network.\n",
    "\n",
    "\n",
    "In the cell below you should create the $Q$-Network and the target $\\hat Q$-Network using the model architecture described above. Remember that both the $Q$-Network and the target $\\hat Q$-Network have the same architecture.\n",
    "\n",
    "Lastly, you should set `Adam` as the optimizer with a learning rate equal to `ALPHA`. Recall that `ALPHA` was defined in the [Hyperparameters](#2) section. We should note that for this exercise you should use the already imported packages:\n",
    "```python\n",
    "from tensorflow.keras.layers import Dense, Input\n",
    "from tensorflow.keras.optimizers import Adam\n",
    "```"
   ]
  },
  {
   "cell_type": "code",
   "execution_count": 17,
   "metadata": {
    "deletable": false
   },
   "outputs": [],
   "source": [
    "# UNQ_C1\n",
    "# GRADED CELL\n",
    "\n",
    "# Create the Q-Network\n",
    "q_network = Sequential([\n",
    "    ### START CODE HERE ### \n",
    "    Input(shape=state_size),                      \n",
    "    Dense(units=64, activation='relu'),            \n",
    "    Dense(units=64, activation='relu'),            \n",
    "    Dense(units=num_actions, activation='linear'),\n",
    "    \n",
    "    \n",
    "    \n",
    "    ### END CODE HERE ### \n",
    "    ])\n",
    "\n",
    "# Create the target Q^-Network\n",
    "target_q_network = Sequential([\n",
    "    \n",
    "    ### START CODE HERE ### \n",
    "    Input(shape=state_size),                       \n",
    "    Dense(units=64, activation='relu'),            \n",
    "    Dense(units=64, activation='relu'),            \n",
    "    Dense(units=num_actions, activation='linear'),\n",
    "    \n",
    "    \n",
    "    \n",
    "    ### END CODE HERE ###\n",
    "    ])\n",
    "\n",
    "### START CODE HERE ### \n",
    "optimizer =  Adam(learning_rate=ALPHA) \n",
    "### END CODE HERE ###"
   ]
  },
  {
   "cell_type": "code",
   "execution_count": 18,
   "metadata": {
    "deletable": false,
    "editable": false
   },
   "outputs": [
    {
     "name": "stdout",
     "output_type": "stream",
     "text": [
      "\u001b[92mAll tests passed!\n",
      "\u001b[92mAll tests passed!\n",
      "\u001b[92mAll tests passed!\n"
     ]
    }
   ],
   "source": [
    "# UNIT TEST\n",
    "from public_tests import *\n",
    "\n",
    "test_network(q_network)\n",
    "test_network(target_q_network)\n",
    "test_optimizer(optimizer, ALPHA) "
   ]
  },
  {
   "cell_type": "markdown",
   "metadata": {},
   "source": [
    "<details>\n",
    "  <summary><font size=\"3\" color=\"darkgreen\"><b>Click for hints</b></font></summary>\n",
    "    \n",
    "```python\n",
    "# Create the Q-Network\n",
    "q_network = Sequential([\n",
    "    Input(shape=state_size),                      \n",
    "    Dense(units=64, activation='relu'),            \n",
    "    Dense(units=64, activation='relu'),            \n",
    "    Dense(units=num_actions, activation='linear'),\n",
    "    ])\n",
    "\n",
    "# Create the target Q^-Network\n",
    "target_q_network = Sequential([\n",
    "    Input(shape=state_size),                       \n",
    "    Dense(units=64, activation='relu'),            \n",
    "    Dense(units=64, activation='relu'),            \n",
    "    Dense(units=num_actions, activation='linear'), \n",
    "    ])\n",
    "\n",
    "optimizer = Adam(learning_rate=ALPHA)                                  \n",
    "``` "
   ]
  },
  {
   "cell_type": "markdown",
   "metadata": {},
   "source": [
    "<a name=\"6.2\"></a>\n",
    "### 6.2 Experience Replay\n",
    "\n",
    "When an agent interacts with the environment, the states, actions, and rewards the agent experiences are sequential by nature. If the agent tries to learn from these consecutive experiences it can run into problems due to the strong correlations between them. To avoid this, we employ a technique known as **Experience Replay** to generate uncorrelated experiences for training our agent. Experience replay consists of storing the agent's experiences (i.e the states, actions, and rewards the agent receives) in a memory buffer and then sampling a random mini-batch of experiences from the buffer to do the learning. The experience tuples $(S_t, A_t, R_t, S_{t+1})$ will be added to the memory buffer at each time step as the agent interacts with the environment.\n",
    "\n",
    "For convenience, we will store the experiences as named tuples."
   ]
  },
  {
   "cell_type": "code",
   "execution_count": 19,
   "metadata": {
    "deletable": false,
    "editable": false
   },
   "outputs": [],
   "source": [
    "# Store experiences as named tuples\n",
    "experience = namedtuple(\"Experience\", field_names=[\"state\", \"action\", \"reward\", \"next_state\", \"done\"])"
   ]
  },
  {
   "cell_type": "markdown",
   "metadata": {},
   "source": [
    "By using experience replay we avoid problematic correlations, oscillations and instabilities. In addition, experience replay also allows the agent to potentially use the same experience in multiple weight updates, which increases data efficiency."
   ]
  },
  {
   "cell_type": "markdown",
   "metadata": {},
   "source": [
    "<a name=\"7\"></a>\n",
    "## 7 - Deep Q-Learning Algorithm with Experience Replay\n",
    "\n",
    "Now that we know all the techniques that we are going to use, we can put them together to arrive at the Deep Q-Learning Algorithm With Experience Replay.\n",
    "<br>\n",
    "<br>\n",
    "<figure>\n",
    "  <img src = \"images/deep_q_algorithm.png\" width = 90% style = \"border: thin silver solid; padding: 0px\">\n",
    "      <figcaption style = \"text-align: center; font-style: italic\">Fig 3. Deep Q-Learning with Experience Replay.</figcaption>\n",
    "</figure>"
   ]
  },
  {
   "cell_type": "markdown",
   "metadata": {},
   "source": [
    "<a name=\"ex02\"></a>\n",
    "### Exercise 2\n",
    "\n",
    "In this exercise you will implement line ***12*** of the algorithm outlined in *Fig 3* above and you will also compute the loss between the $y$ targets and the $Q(s,a)$ values. In the cell below, complete the `compute_loss` function by setting the $y$ targets equal to:\n",
    "\n",
    "$$\n",
    "\\begin{equation}\n",
    "    y_j =\n",
    "    \\begin{cases}\n",
    "      R_j & \\text{if episode terminates at step  } j+1\\\\\n",
    "      R_j + \\gamma \\max_{a'}\\hat{Q}(s_{j+1},a') & \\text{otherwise}\\\\\n",
    "    \\end{cases}       \n",
    "\\end{equation}\n",
    "$$\n",
    "\n",
    "Here are a couple of things to note:\n",
    "\n",
    "* The `compute_loss` function takes in a mini-batch of experience tuples. This mini-batch of experience tuples is unpacked to extract the `states`, `actions`, `rewards`, `next_states`, and `done_vals`. You should keep in mind that these variables are *TensorFlow Tensors* whose size will depend on the mini-batch size. For example, if the mini-batch size is `64` then both `rewards` and `done_vals` will be TensorFlow Tensors with `64` elements.\n",
    "\n",
    "\n",
    "* Using `if/else` statements to set the $y$ targets will not work when the variables are tensors with many elements. However, notice that you can use the `done_vals` to implement the above in a single line of code. To do this, recall that the `done` variable is a Boolean variable that takes the value `True` when an episode terminates at step $j+1$ and it is `False` otherwise. Taking into account that a Boolean value of `True` has the numerical value of `1` and a Boolean value of `False` has the numerical value of `0`, you can use the factor `(1 - done_vals)` to implement the above in a single line of code. Here's a hint: notice that `(1 - done_vals)` has a value of `0` when `done_vals` is `True` and a value of `1` when `done_vals` is `False`. \n",
    "\n",
    "Lastly, compute the loss by calculating the Mean-Squared Error (`MSE`) between the `y_targets` and the `q_values`. To calculate the mean-squared error you should use the already imported package `MSE`:\n",
    "```python\n",
    "from tensorflow.keras.losses import MSE\n",
    "```"
   ]
  },
  {
   "cell_type": "code",
   "execution_count": 21,
   "metadata": {
    "deletable": false
   },
   "outputs": [],
   "source": [
    "# UNQ_C2\n",
    "# GRADED FUNCTION: calculate_loss\n",
    "\n",
    "def compute_loss(experiences, gamma, q_network, target_q_network):\n",
    "    \"\"\" \n",
    "    Calculates the loss.\n",
    "\n",
    "    Args:\n",
    "      experiences: (tuple) tuple of [\"state\", \"action\", \"reward\", \"next_state\", \"done\"] namedtuples\n",
    "      gamma: (float) The discount factor.\n",
    "      q_network: (tf.keras.Sequential) Keras model for predicting the q_values\n",
    "      target_q_network: (tf.keras.Sequential) Keras model for predicting the targets\n",
    "\n",
    "    Returns:\n",
    "      loss: (TensorFlow Tensor(shape=(0,), dtype=int32)) the Mean-Squared Error between\n",
    "            the y targets and the Q(s,a) values.\n",
    "    \"\"\"\n",
    "\n",
    "\n",
    "    # Unpack the mini-batch of experience tuples\n",
    "    states, actions, rewards, next_states, done_vals = experiences\n",
    "\n",
    "    # Compute max Q^(s,a)\n",
    "    max_qsa = tf.reduce_max(target_q_network(next_states), axis=-1)\n",
    "\n",
    "    # Set y = R if episode terminates, otherwise set y = R + γ max Q^(s,a).\n",
    "    y_targets = rewards + (gamma * max_qsa * (1 - done_vals))\n",
    "\n",
    "    # Get the q_values\n",
    "    q_values = q_network(states)\n",
    "    q_values = tf.gather_nd(q_values, tf.stack([tf.range(q_values.shape[0]),\n",
    "                                                tf.cast(actions, tf.int32)], axis=1))\n",
    "\n",
    "    # Calculate the loss\n",
    "    loss = MSE(y_targets, q_values)\n",
    "\n",
    "    return loss"
   ]
  },
  {
   "cell_type": "code",
   "execution_count": 22,
   "metadata": {
    "deletable": false,
    "editable": false
   },
   "outputs": [
    {
     "name": "stdout",
     "output_type": "stream",
     "text": [
      "\u001b[92mAll tests passed!\n"
     ]
    }
   ],
   "source": [
    "# UNIT TEST    \n",
    "test_compute_loss(compute_loss)"
   ]
  },
  {
   "cell_type": "markdown",
   "metadata": {},
   "source": [
    "<details>\n",
    "  <summary><font size=\"3\" color=\"darkgreen\"><b>Click for hints</b></font></summary>\n",
    "    \n",
    "```python\n",
    "def compute_loss(experiences, gamma, q_network, target_q_network):\n",
    "    \"\"\" \n",
    "    Calculates the loss.\n",
    "    \n",
    "    Args:\n",
    "      experiences: (tuple) tuple of [\"state\", \"action\", \"reward\", \"next_state\", \"done\"] namedtuples\n",
    "      gamma: (float) The discount factor.\n",
    "      q_network: (tf.keras.Sequential) Keras model for predicting the q_values\n",
    "      target_q_network: (tf.keras.Sequential) Keras model for predicting the targets\n",
    "          \n",
    "    Returns:\n",
    "      loss: (TensorFlow Tensor(shape=(0,), dtype=int32)) the Mean-Squared Error between\n",
    "            the y targets and the Q(s,a) values.\n",
    "    \"\"\"\n",
    "\n",
    "    \n",
    "    # Unpack the mini-batch of experience tuples\n",
    "    states, actions, rewards, next_states, done_vals = experiences\n",
    "    \n",
    "    # Compute max Q^(s,a)\n",
    "    max_qsa = tf.reduce_max(target_q_network(next_states), axis=-1)\n",
    "    \n",
    "    # Set y = R if episode terminates, otherwise set y = R + γ max Q^(s,a).\n",
    "    y_targets = rewards + (gamma * max_qsa * (1 - done_vals))\n",
    "    \n",
    "    # Get the q_values\n",
    "    q_values = q_network(states)\n",
    "    q_values = tf.gather_nd(q_values, tf.stack([tf.range(q_values.shape[0]),\n",
    "                                                tf.cast(actions, tf.int32)], axis=1))\n",
    "    \n",
    "    # Calculate the loss\n",
    "    loss = MSE(y_targets, q_values)\n",
    "    \n",
    "    return loss\n",
    "\n",
    "``` \n",
    "    "
   ]
  },
  {
   "cell_type": "markdown",
   "metadata": {},
   "source": [
    "<a name=\"8\"></a>\n",
    "## 8 - Update the Network Weights\n",
    "\n",
    "We will use the `agent_learn` function below to implement lines ***12 -14*** of the algorithm outlined in [Fig 3](#7). The `agent_learn` function will update the weights of the $Q$ and target $\\hat Q$ networks using a custom training loop. Because we are using a custom training loop we need to retrieve the gradients via a `tf.GradientTape` instance, and then call `optimizer.apply_gradients()` to update the weights of our $Q$-Network. Note that we are also using the `@tf.function` decorator to increase performance. Without this decorator our training will take twice as long. If you would like to know more about how to increase performance with `@tf.function` take a look at the [TensorFlow documentation](https://www.tensorflow.org/guide/function).\n",
    "\n",
    "The last line of this function updates the weights of the target $\\hat Q$-Network using a [soft update](#6.1). If you want to know how this is implemented in code we encourage you to take a look at the `utils.update_target_network` function in the `utils` module."
   ]
  },
  {
   "cell_type": "code",
   "execution_count": 23,
   "metadata": {
    "deletable": false,
    "editable": false
   },
   "outputs": [],
   "source": [
    "@tf.function\n",
    "def agent_learn(experiences, gamma):\n",
    "    \"\"\"\n",
    "    Updates the weights of the Q networks.\n",
    "    \n",
    "    Args:\n",
    "      experiences: (tuple) tuple of [\"state\", \"action\", \"reward\", \"next_state\", \"done\"] namedtuples\n",
    "      gamma: (float) The discount factor.\n",
    "    \n",
    "    \"\"\"\n",
    "    \n",
    "    # Calculate the loss\n",
    "    with tf.GradientTape() as tape:\n",
    "        loss = compute_loss(experiences, gamma, q_network, target_q_network)\n",
    "\n",
    "    # Get the gradients of the loss with respect to the weights.\n",
    "    gradients = tape.gradient(loss, q_network.trainable_variables)\n",
    "    \n",
    "    # Update the weights of the q_network.\n",
    "    optimizer.apply_gradients(zip(gradients, q_network.trainable_variables))\n",
    "\n",
    "    # update the weights of target q_network\n",
    "    utils.update_target_network(q_network, target_q_network)"
   ]
  },
  {
   "cell_type": "markdown",
   "metadata": {},
   "source": [
    "<a name=\"9\"></a>\n",
    "## 9 - Train the Agent\n",
    "\n",
    "We are now ready to train our agent to solve the Lunar Lander environment. In the cell below we will implement the algorithm in [Fig 3](#7) line by line (please note that we have included the same algorithm below for easy reference. This will prevent you from scrolling up and down the notebook):\n",
    "\n",
    "* **Line 1**: We initialize the `memory_buffer` with a capacity of $N =$ `MEMORY_SIZE`. Notice that we are using a `deque` as the data structure for our `memory_buffer`.\n",
    "\n",
    "\n",
    "* **Line 2**: We skip this line since we already initialized the `q_network` in [Exercise 1](#ex01).\n",
    "\n",
    "\n",
    "* **Line 3**: We initialize the `target_q_network` by setting its weights to be equal to those of the `q_network`.\n",
    "\n",
    "\n",
    "* **Line 4**: We start the outer loop. Notice that we have set $M =$ `num_episodes = 2000`. This number is reasonable because the agent should be able to solve the Lunar Lander environment in less than `2000` episodes using this notebook's default parameters.\n",
    "\n",
    "\n",
    "* **Line 5**: We use the `.reset()` method to reset the environment to the initial state and get the initial state.\n",
    "\n",
    "\n",
    "* **Line 6**: We start the inner loop. Notice that we have set $T =$ `max_num_timesteps = 1000`. This means that the episode will automatically terminate if the episode hasn't terminated after `1000` time steps.\n",
    "\n",
    "\n",
    "* **Line 7**: The agent observes the current `state` and chooses an `action` using an $\\epsilon$-greedy policy. Our agent starts out using a value of $\\epsilon =$ `epsilon = 1` which yields an $\\epsilon$-greedy policy that is equivalent to the equiprobable random policy. This means that at the beginning of our training, the agent is just going to take random actions regardless of the observed `state`. As training progresses we will decrease the value of $\\epsilon$ slowly towards a minimum value using a given $\\epsilon$-decay rate. We want this minimum value to be close to zero because a value of $\\epsilon = 0$ will yield an $\\epsilon$-greedy policy that is equivalent to the greedy policy. This means that towards the end of training, the agent will lean towards selecting the `action` that it believes (based on its past experiences) will maximize $Q(s,a)$. We will set the minimum $\\epsilon$ value to be `0.01` and not exactly 0 because we always want to keep a little bit of exploration during training. If you want to know how this is implemented in code we encourage you to take a look at the `utils.get_action` function in the `utils` module.\n",
    "\n",
    "\n",
    "* **Line 8**: We use the `.step()` method to take the given `action` in the environment and get the `reward` and the `next_state`. \n",
    "\n",
    "\n",
    "* **Line 9**: We store the `experience(state, action, reward, next_state, done)` tuple in our `memory_buffer`. Notice that we also store the `done` variable so that we can keep track of when an episode terminates. This allowed us to set the $y$ targets in [Exercise 2](#ex02).\n",
    "\n",
    "\n",
    "* **Line 10**: We check if the conditions are met to perform a learning update. We do this by using our custom `utils.check_update_conditions` function. This function checks if $C =$ `NUM_STEPS_FOR_UPDATE = 4` time steps have occured and if our `memory_buffer` has enough experience tuples to fill a mini-batch. For example, if the mini-batch size is `64`, then our `memory_buffer` should have more than `64` experience tuples in order to pass the latter condition. If the conditions are met, then the `utils.check_update_conditions` function will return a value of `True`, otherwise it will return a value of `False`.\n",
    "\n",
    "\n",
    "* **Lines 11 - 14**: If the `update` variable is `True` then we perform a learning update. The learning update consists of sampling a random mini-batch of experience tuples from our `memory_buffer`, setting the $y$ targets, performing gradient descent, and updating the weights of the networks. We will use the `agent_learn` function we defined in [Section 8](#8) to perform the latter 3.\n",
    "\n",
    "\n",
    "* **Line 15**: At the end of each iteration of the inner loop we set `next_state` as our new `state` so that the loop can start again from this new state. In addition, we check if the episode has reached a terminal state (i.e we check if `done = True`). If a terminal state has been reached, then we break out of the inner loop.\n",
    "\n",
    "\n",
    "* **Line 16**: At the end of each iteration of the outer loop we update the value of $\\epsilon$, and check if the environment has been solved. We consider that the environment has been solved if the agent receives an average of `200` points in the last `100` episodes. If the environment has not been solved we continue the outer loop and start a new episode.\n",
    "\n",
    "Finally, we wanted to note that we have included some extra variables to keep track of the total number of points the agent received in each episode. This will help us determine if the agent has solved the environment and it will also allow us to see how our agent performed during training. We also use the `time` module to measure how long the training takes. \n",
    "\n",
    "<br>\n",
    "<br>\n",
    "<figure>\n",
    "  <img src = \"images/deep_q_algorithm.png\" width = 90% style = \"border: thin silver solid; padding: 0px\">\n",
    "      <figcaption style = \"text-align: center; font-style: italic\">Fig 4. Deep Q-Learning with Experience Replay.</figcaption>\n",
    "</figure>\n",
    "<br>\n",
    "\n",
    "**Note:** With this notebook's default parameters, the following cell takes between 10 to 15 minutes to run. "
   ]
  },
  {
   "cell_type": "code",
   "execution_count": 24,
   "metadata": {
    "deletable": false,
    "editable": false
   },
   "outputs": [
    {
     "name": "stdout",
     "output_type": "stream",
     "text": [
      "Episode 100 | Total point average of the last 100 episodes: -140.75\n",
      "Episode 200 | Total point average of the last 100 episodes: -91.212\n",
      "Episode 300 | Total point average of the last 100 episodes: -65.91\n",
      "Episode 400 | Total point average of the last 100 episodes: -40.18\n",
      "Episode 500 | Total point average of the last 100 episodes: 36.035\n",
      "Episode 600 | Total point average of the last 100 episodes: 199.97\n",
      "Episode 601 | Total point average of the last 100 episodes: 200.68\n",
      "\n",
      "Environment solved in 601 episodes!\n",
      "\n",
      "Total Runtime: 890.98 s (14.85 min)\n"
     ]
    }
   ],
   "source": [
    "start = time.time()\n",
    "\n",
    "num_episodes = 2000\n",
    "max_num_timesteps = 1000\n",
    "\n",
    "total_point_history = []\n",
    "\n",
    "num_p_av = 100    # number of total points to use for averaging\n",
    "epsilon = 1.0     # initial ε value for ε-greedy policy\n",
    "\n",
    "# Create a memory buffer D with capacity N\n",
    "memory_buffer = deque(maxlen=MEMORY_SIZE)\n",
    "\n",
    "# Set the target network weights equal to the Q-Network weights\n",
    "target_q_network.set_weights(q_network.get_weights())\n",
    "\n",
    "for i in range(num_episodes):\n",
    "    \n",
    "    # Reset the environment to the initial state and get the initial state\n",
    "    state = env.reset()\n",
    "    total_points = 0\n",
    "    \n",
    "    for t in range(max_num_timesteps):\n",
    "        \n",
    "        # From the current state S choose an action A using an ε-greedy policy\n",
    "        state_qn = np.expand_dims(state, axis=0)  # state needs to be the right shape for the q_network\n",
    "        q_values = q_network(state_qn)\n",
    "        action = utils.get_action(q_values, epsilon)\n",
    "        \n",
    "        # Take action A and receive reward R and the next state S'\n",
    "        next_state, reward, done, _ = env.step(action)\n",
    "        \n",
    "        # Store experience tuple (S,A,R,S') in the memory buffer.\n",
    "        # We store the done variable as well for convenience.\n",
    "        memory_buffer.append(experience(state, action, reward, next_state, done))\n",
    "        \n",
    "        # Only update the network every NUM_STEPS_FOR_UPDATE time steps.\n",
    "        update = utils.check_update_conditions(t, NUM_STEPS_FOR_UPDATE, memory_buffer)\n",
    "        \n",
    "        if update:\n",
    "            # Sample random mini-batch of experience tuples (S,A,R,S') from D\n",
    "            experiences = utils.get_experiences(memory_buffer)\n",
    "            \n",
    "            # Set the y targets, perform a gradient descent step,\n",
    "            # and update the network weights.\n",
    "            agent_learn(experiences, GAMMA)\n",
    "        \n",
    "        state = next_state.copy()\n",
    "        total_points += reward\n",
    "        \n",
    "        if done:\n",
    "            break\n",
    "            \n",
    "    total_point_history.append(total_points)\n",
    "    av_latest_points = np.mean(total_point_history[-num_p_av:])\n",
    "    \n",
    "    # Update the ε value\n",
    "    epsilon = utils.get_new_eps(epsilon)\n",
    "\n",
    "    print(f\"\\rEpisode {i+1} | Total point average of the last {num_p_av} episodes: {av_latest_points:.2f}\", end=\"\")\n",
    "\n",
    "    if (i+1) % num_p_av == 0:\n",
    "        print(f\"\\rEpisode {i+1} | Total point average of the last {num_p_av} episodes: {av_latest_points:.2f}\")\n",
    "\n",
    "    # We will consider that the environment is solved if we get an\n",
    "    # average of 200 points in the last 100 episodes.\n",
    "    if av_latest_points >= 200.0:\n",
    "        print(f\"\\n\\nEnvironment solved in {i+1} episodes!\")\n",
    "        q_network.save('lunar_lander_model.h5')\n",
    "        break\n",
    "        \n",
    "tot_time = time.time() - start\n",
    "\n",
    "print(f\"\\nTotal Runtime: {tot_time:.2f} s ({(tot_time/60):.2f} min)\")"
   ]
  },
  {
   "cell_type": "markdown",
   "metadata": {},
   "source": [
    "We can plot the total point history along with the moving average to see how our agent improved during training. If you want to know about the different plotting options available in the `utils.plot_history` function we encourage you to take a look at the `utils` module."
   ]
  },
  {
   "cell_type": "code",
   "execution_count": 25,
   "metadata": {
    "deletable": false,
    "editable": false,
    "id": "E_EUXxurfe8m",
    "scrolled": false
   },
   "outputs": [
    {
     "data": {
      "image/png": "[encoded data removed]",
      "text/plain": [
       "<Figure size 720x504 with 1 Axes>"
      ]
     },
     "metadata": {},
     "output_type": "display_data"
    }
   ],
   "source": [
    "# Plot the total point history along with the moving average\n",
    "utils.plot_history(total_point_history)"
   ]
  },
  {
   "cell_type": "markdown",
   "metadata": {
    "id": "c_xwgaX5MnYt"
   },
   "source": [
    "<a name=\"10\"></a>\n",
    "## 10 - See the Trained Agent In Action\n",
    "\n",
    "Now that we have trained our agent, we can see it in action. We will use the `utils.create_video` function to create a video of our agent interacting with the environment using the trained $Q$-Network. The `utils.create_video` function uses the `imageio` library to create the video. This library produces some warnings that can be distracting, so, to suppress these warnings we run the code below."
   ]
  },
  {
   "cell_type": "code",
   "execution_count": 28,
   "metadata": {
    "deletable": false,
    "editable": false
   },
   "outputs": [],
   "source": [
    "# Suppress warnings from imageio\n",
    "import logging\n",
    "logging.getLogger().setLevel(logging.ERROR)"
   ]
  },
  {
   "cell_type": "markdown",
   "metadata": {},
   "source": [
    "In the cell below we create a video of our agent interacting with the Lunar Lander environment using the trained `q_network`. The video is saved to the `videos` folder with the given `filename`. We use the `utils.embed_mp4` function to embed the video in the Jupyter Notebook so that we can see it here directly without having to download it.\n",
    "\n",
    "We should note that since the lunar lander starts with a random initial force applied to its center of mass, every time you run the cell below you will see a different video. If the agent was trained properly, it should be able to land the lunar lander in the landing pad every time, regardless of the initial force applied to its center of mass."
   ]
  },
  {
   "cell_type": "code",
   "execution_count": 29,
   "metadata": {
    "deletable": false,
    "editable": false,
    "id": "3Ttb_zLeJKiG"
   },
   "outputs": [
    {
     "data": {
      "text/html": [
       "\n",
       "    <video width=\"840\" height=\"480\" controls>\n",
       "    <source src=\"data:video/mp4;base64,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\" type=\"video/mp4\">\n",
       "    Your browser does not support the video tag.\n",
       "    </video>"
      ],
      "text/plain": [
       "<IPython.core.display.HTML object>"
      ]
     },
     "execution_count": 29,
     "metadata": {},
     "output_type": "execute_result"
    }
   ],
   "source": [
    "filename = \"./videos/lunar_lander.mp4\"\n",
    "\n",
    "utils.create_video(filename, env, q_network)\n",
    "utils.embed_mp4(filename)"
   ]
  },
  {
   "cell_type": "markdown",
   "metadata": {},
   "source": [
    "<a name=\"11\"></a>\n",
    "## 11 - Congratulations!\n",
    "\n",
    "You have successfully used Deep Q-Learning with Experience Replay to train an agent to land a lunar lander safely on a landing pad on the surface of the moon. Congratulations!"
   ]
  },
  {
   "cell_type": "markdown",
   "metadata": {},
   "source": [
    "<a name=\"12\"></a>\n",
    "## 12 - References\n",
    "\n",
    "If you would like to learn more about Deep Q-Learning, we recommend you check out the following papers.\n",
    "\n",
    "\n",
    "* Mnih, V., Kavukcuoglu, K., Silver, D. et al. Human-level control through deep reinforcement learning. Nature 518, 529–533 (2015).\n",
    "\n",
    "\n",
    "* Lillicrap, T. P., Hunt, J. J., Pritzel, A., et al. Continuous Control with Deep Reinforcement Learning. ICLR (2016).\n",
    "\n",
    "\n",
    "* Mnih, V., Kavukcuoglu, K., Silver, D. et al. Playing Atari with Deep Reinforcement Learning. arXiv e-prints.  arXiv:1312.5602 (2013)."
   ]
  },
  {
   "cell_type": "markdown",
   "metadata": {},
   "source": [
    "<details>\n",
    "  <summary><font size=\"2\" color=\"darkgreen\"><b>Please click here if you want to experiment with any of the non-graded code.</b></font></summary>\n",
    "    <p><i><b>Important Note: Please only do this when you've already passed the assignment to avoid problems with the autograder.</b></i>\n",
    "    <ol>\n",
    "        <li> On the notebook’s menu, click “View” > “Cell Toolbar” > “Edit Metadata”</li>\n",
    "        <li> Hit the “Edit Metadata” button next to the code cell which you want to lock/unlock</li>\n",
    "        <li> Set the attribute value for “editable” to:\n",
    "            <ul>\n",
    "                <li> “true” if you want to unlock it </li>\n",
    "                <li> “false” if you want to lock it </li>\n",
    "            </ul>\n",
    "        </li>\n",
    "        <li> On the notebook’s menu, click “View” > “Cell Toolbar” > “None” </li>\n",
    "    </ol>\n",
    "    <p> Here's a short demo of how to do the steps above: \n",
    "        <br>\n",
    "        <img src=\"https://lh3.google.com/u/0/d/14Xy_Mb17CZVgzVAgq7NCjMVBvSae3xO1\" align=\"center\" alt=\"unlock_cells.gif\">\n",
    "</details>"
   ]
  },
  {
   "cell_type": "code",
   "execution_count": null,
   "metadata": {},
   "outputs": [],
   "source": []
  },
  {
   "cell_type": "code",
   "execution_count": null,
   "metadata": {},
   "outputs": [],
   "source": []
  }
 ],
 "metadata": {
  "accelerator": "GPU",
  "colab": {
   "collapsed_sections": [],
   "name": "TensorFlow - Lunar Lander.ipynb",
   "provenance": []
  },
  "kernelspec": {
   "display_name": "Python 3",
   "language": "python",
   "name": "python3"
  },
  "language_info": {
   "codemirror_mode": {
    "name": "ipython",
    "version": 3
   },
   "file_extension": ".py",
   "mimetype": "text/x-python",
   "name": "python",
   "nbconvert_exporter": "python",
   "pygments_lexer": "ipython3",
   "version": "3.7.6"
  }
 },
 "nbformat": 4,
 "nbformat_minor": 1
}
